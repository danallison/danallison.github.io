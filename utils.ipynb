{
 "cells": [
  {
   "cell_type": "markdown",
   "id": "f1dd39d2",
   "metadata": {},
   "source": [
    "# Utils\n",
    "\n",
    "Cells in this notebook can be used to perform scriptable tasks like generating pages based on data structures. Normally these would be implemented as Jekyll plugins, but GitHub Pages does not allow custom plugins. There's probably a more clever way to run these tasks in GitHub workflows or something, but this works fine."
   ]
  },
  {
   "cell_type": "markdown",
   "id": "acaa399d",
   "metadata": {},
   "source": [
    "## Generate Tag Pages\n",
    "\n",
    "The following cell reads `_config.yml` and all collection files, extracts tags, and writes a `.md` file for each tag under `tags/` as `tags/<tag>.md`.\n",
    "\n",
    "Run this cell whenever new tags are added.\n"
   ]
  },
  {
   "cell_type": "code",
   "execution_count": 3,
   "id": "312b3f58",
   "metadata": {},
   "outputs": [
    {
     "ename": "ModuleNotFoundError",
     "evalue": "No module named 'yaml'",
     "output_type": "error",
     "traceback": [
      "\u001b[0;31m---------------------------------------------------------------------------\u001b[0m",
      "\u001b[0;31mModuleNotFoundError\u001b[0m                       Traceback (most recent call last)",
      "Cell \u001b[0;32mIn[3], line 4\u001b[0m\n\u001b[1;32m      2\u001b[0m \u001b[38;5;28;01mimport\u001b[39;00m \u001b[38;5;21;01mre\u001b[39;00m\n\u001b[1;32m      3\u001b[0m \u001b[38;5;28;01mimport\u001b[39;00m \u001b[38;5;21;01mglob\u001b[39;00m\n\u001b[0;32m----> 4\u001b[0m \u001b[38;5;28;01mimport\u001b[39;00m \u001b[38;5;21;01myaml\u001b[39;00m\n\u001b[1;32m      6\u001b[0m \u001b[38;5;66;03m# Load Jekyll configuration\u001b[39;00m\n\u001b[1;32m      7\u001b[0m \u001b[38;5;28;01mwith\u001b[39;00m \u001b[38;5;28mopen\u001b[39m(\u001b[38;5;124m'\u001b[39m\u001b[38;5;124m_config.yml\u001b[39m\u001b[38;5;124m'\u001b[39m, \u001b[38;5;124m'\u001b[39m\u001b[38;5;124mr\u001b[39m\u001b[38;5;124m'\u001b[39m) \u001b[38;5;28;01mas\u001b[39;00m f:\n",
      "\u001b[0;31mModuleNotFoundError\u001b[0m: No module named 'yaml'"
     ]
    }
   ],
   "source": [
    "import os\n",
    "import re\n",
    "import glob\n",
    "import yaml\n",
    "\n",
    "# Load Jekyll configuration\n",
    "with open('_config.yml', 'r') as f:\n",
    "    cfg = yaml.safe_load(f)\n",
    "\n",
    "# Determine collections (including posts)\n",
    "collections = set(cfg.get('collections', {}).keys())\n",
    "collections.add('posts')\n",
    "\n",
    "# Gather tags from all collection files\n",
    "tags = set()\n",
    "for coll in collections:\n",
    "    dir_name = '_posts' if coll == 'posts' else f\"_{coll}\"\n",
    "    if not os.path.isdir(dir_name):\n",
    "        continue\n",
    "    for path in glob.glob(os.path.join(dir_name, '*.md')):\n",
    "        with open(path, 'r') as f:\n",
    "            content = f.read()\n",
    "        fm = re.match(r'^---\\s*(.*?)\\s*---', content, re.DOTALL)\n",
    "        if not fm:\n",
    "            continue\n",
    "        data = yaml.safe_load(fm.group(1))\n",
    "        for t in data.get('tags', []) or []:\n",
    "            if isinstance(t, str):\n",
    "                t = t.strip()\n",
    "                tags.add(t)\n",
    "\n",
    "# Create tags directory and write tag pages\n",
    "os.makedirs('_tags', exist_ok=True)\n",
    "for tag in tags:\n",
    "    slug = re.sub(r'[^\\w-]', '', tag.lower().replace(' ', '-'))\n",
    "    header = f\"\"\"---\n",
    "layout: tag\n",
    "tag: {tag}\n",
    "title: {tag}\n",
    "---\"\"\"\n",
    "    with open(os.path.join('_tags', f'{slug}.md'), 'w') as f:\n",
    "        f.write(header + '\\n')\n",
    "print(f\"Generated {len(tags)} tag pages in '_tags/' directory.\")"
   ]
  },
  {
   "cell_type": "markdown",
   "id": "e3925075",
   "metadata": {},
   "source": [
    "## Generate Markdown File for Each Image File\n",
    "\n",
    "This cell generates a corresponding markdown file for each image in a directory (drawings or stereoscopic-images etc.) and puts it in the corresponding Jekyll collection directory with the same name, just with the underscore prefix. If the markdown file already exists, it will _not_ be overwritten."
   ]
  },
  {
   "cell_type": "code",
   "execution_count": 4,
   "id": "2756dc4a",
   "metadata": {},
   "outputs": [
    {
     "name": "stdout",
     "output_type": "stream",
     "text": [
      "Created _drawings/2025-08-23_grid-spiral-suspension.md\n",
      "Created _drawings/2025-08-24_swirly-observation.md\n",
      "Created _stereoscopic_images/2025-08-24_creek.md\n",
      "Created _stereoscopic_images/2025-08-25_ivy.md\n"
     ]
    }
   ],
   "source": [
    "import os\n",
    "import re\n",
    "import sys\n",
    "from pathlib import Path\n",
    "\n",
    "def generate_md_for_images(directory, dest_dir, layout):\n",
    "    img_pattern = re.compile(r'^(?P<date>\\d{4}-\\d{2}-\\d{2})_(?P<name>.+)\\.(?:jpg|png|gif)$', re.IGNORECASE)\n",
    "    directory = Path(directory)\n",
    "    # if the source directory doesn't exist, exit\n",
    "    if not directory.exists():\n",
    "        print(f\"Source directory {directory} does not exist.\")\n",
    "        return\n",
    "    dest_dir = Path(dest_dir)\n",
    "    # if the destination directory doesn't exist, create it\n",
    "    if not dest_dir.exists():\n",
    "        dest_dir.mkdir(parents=True)\n",
    "    for img_path in directory.iterdir():\n",
    "        if not img_path.is_file():\n",
    "            continue\n",
    "        m = img_pattern.match(img_path.name)\n",
    "        if not m:\n",
    "            continue\n",
    "        date = m.group('date')\n",
    "        name = m.group('name')\n",
    "        filename = img_path.name\n",
    "        pagename = f\"{date}_{name}\"\n",
    "        md_path = dest_dir / f\"{pagename}.md\"\n",
    "        if md_path.exists():\n",
    "            continue\n",
    "        front_matter = f\"\"\"---\n",
    "layout: {layout}\n",
    "filename: {filename}\n",
    "pagename: {pagename}\n",
    "date: {date}\n",
    "tags:\n",
    "---\\n\"\"\"\n",
    "        md_path.write_text(front_matter)\n",
    "        print(f\"Created {md_path}\")\n",
    "\n",
    "directory = 'drawings/'\n",
    "dest_dir = '_drawings/'\n",
    "layout = 'drawing'\n",
    "generate_md_for_images(directory, dest_dir, layout)\n",
    "\n",
    "directory = 'stereoscopic-images/'\n",
    "dest_dir = '_stereoscopic_images/'\n",
    "layout = 'stereoscopic_image'\n",
    "generate_md_for_images(directory, dest_dir, layout)\n"
   ]
  },
  {
   "cell_type": "code",
   "execution_count": 1,
   "id": "a4c2d3ce",
   "metadata": {},
   "outputs": [
    {
     "ename": "NameError",
     "evalue": "name 're' is not defined",
     "output_type": "error",
     "traceback": [
      "\u001b[0;31m---------------------------------------------------------------------------\u001b[0m",
      "\u001b[0;31mNameError\u001b[0m                                 Traceback (most recent call last)",
      "Cell \u001b[0;32mIn[1], line 21\u001b[0m\n\u001b[1;32m     18\u001b[0m         img_path\u001b[38;5;241m.\u001b[39mrename(new_path)\n\u001b[1;32m     19\u001b[0m         \u001b[38;5;28mprint\u001b[39m(\u001b[38;5;124mf\u001b[39m\u001b[38;5;124m\"\u001b[39m\u001b[38;5;124mRenamed \u001b[39m\u001b[38;5;132;01m{\u001b[39;00mimg_path\u001b[38;5;132;01m}\u001b[39;00m\u001b[38;5;124m to \u001b[39m\u001b[38;5;132;01m{\u001b[39;00mnew_path\u001b[38;5;132;01m}\u001b[39;00m\u001b[38;5;124m\"\u001b[39m)\n\u001b[0;32m---> 21\u001b[0m \u001b[43mrename_images\u001b[49m\u001b[43m(\u001b[49m\u001b[38;5;124;43m'\u001b[39;49m\u001b[38;5;124;43mstereoscopic-images/\u001b[39;49m\u001b[38;5;124;43m'\u001b[39;49m\u001b[43m)\u001b[49m\n\u001b[1;32m     22\u001b[0m rename_images(\u001b[38;5;124m'\u001b[39m\u001b[38;5;124mdrawings/\u001b[39m\u001b[38;5;124m'\u001b[39m)\n",
      "Cell \u001b[0;32mIn[1], line 4\u001b[0m, in \u001b[0;36mrename_images\u001b[0;34m(directory)\u001b[0m\n\u001b[1;32m      2\u001b[0m \u001b[38;5;28;01mdef\u001b[39;00m \u001b[38;5;21mrename_images\u001b[39m(directory):\n\u001b[1;32m      3\u001b[0m     \u001b[38;5;66;03m# pattern is YYYY-MM-DD.jpg\u001b[39;00m\n\u001b[0;32m----> 4\u001b[0m     img_pattern \u001b[38;5;241m=\u001b[39m \u001b[43mre\u001b[49m\u001b[38;5;241m.\u001b[39mcompile(\u001b[38;5;124mr\u001b[39m\u001b[38;5;124m'\u001b[39m\u001b[38;5;124m^(?P<date>\u001b[39m\u001b[38;5;124m\\\u001b[39m\u001b[38;5;124md\u001b[39m\u001b[38;5;132;01m{4}\u001b[39;00m\u001b[38;5;124m-\u001b[39m\u001b[38;5;124m\\\u001b[39m\u001b[38;5;124md\u001b[39m\u001b[38;5;132;01m{2}\u001b[39;00m\u001b[38;5;124m-\u001b[39m\u001b[38;5;124m\\\u001b[39m\u001b[38;5;124md\u001b[39m\u001b[38;5;132;01m{2}\u001b[39;00m\u001b[38;5;124m)\u001b[39m\u001b[38;5;124m\\\u001b[39m\u001b[38;5;124m.jpg$\u001b[39m\u001b[38;5;124m'\u001b[39m, re\u001b[38;5;241m.\u001b[39mIGNORECASE)\n\u001b[1;32m      5\u001b[0m     directory \u001b[38;5;241m=\u001b[39m Path(directory)\n\u001b[1;32m      6\u001b[0m     \u001b[38;5;28;01mfor\u001b[39;00m img_path \u001b[38;5;129;01min\u001b[39;00m directory\u001b[38;5;241m.\u001b[39miterdir():\n",
      "\u001b[0;31mNameError\u001b[0m: name 're' is not defined"
     ]
    }
   ],
   "source": [
    "# find images with the name pattern YYYY-MM-DD.jpg and rename them to YYYY-MM-DD_1.jpg, YYYY-MM-DD_2.jpg, etc.\n",
    "def rename_images(directory):\n",
    "    # pattern is YYYY-MM-DD.jpg\n",
    "    img_pattern = re.compile(r'^(?P<date>\\d{4}-\\d{2}-\\d{2})\\.jpg$', re.IGNORECASE)\n",
    "    directory = Path(directory)\n",
    "    for img_path in directory.iterdir():\n",
    "        if not img_path.is_file():\n",
    "            continue\n",
    "        m = img_pattern.match(img_path.name)\n",
    "        if not m:\n",
    "            continue\n",
    "        date = m.group('date')\n",
    "        name = '1'\n",
    "        new_name = f\"{date}_{name}.jpg\"\n",
    "        new_path = directory / new_name\n",
    "        if new_path.exists():\n",
    "            continue\n",
    "        img_path.rename(new_path)\n",
    "        print(f\"Renamed {img_path} to {new_path}\")\n",
    "\n",
    "rename_images('stereoscopic-images/')\n",
    "rename_images('drawings/')"
   ]
  },
  {
   "cell_type": "code",
   "execution_count": null,
   "id": "a329cfaa",
   "metadata": {},
   "outputs": [],
   "source": []
  }
 ],
 "metadata": {
  "kernelspec": {
   "display_name": "Python 3",
   "language": "python",
   "name": "python3"
  },
  "language_info": {
   "codemirror_mode": {
    "name": "ipython",
    "version": 3
   },
   "file_extension": ".py",
   "mimetype": "text/x-python",
   "name": "python",
   "nbconvert_exporter": "python",
   "pygments_lexer": "ipython3",
   "version": "3.11.12"
  }
 },
 "nbformat": 4,
 "nbformat_minor": 5
}
