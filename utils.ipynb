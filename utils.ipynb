{
 "cells": [
  {
   "cell_type": "markdown",
   "id": "f1dd39d2",
   "metadata": {},
   "source": [
    "# Utils\n",
    "\n",
    "Cells in this notebook can be used to perform scriptable tasks like generating pages based on data structures. Normally these would be implemented as Jekyll plugins, but GitHub Pages does not allow custom plugins. There's probably a more clever way to run these tasks in GitHub workflows or something, but this works fine."
   ]
  },
  {
   "cell_type": "markdown",
   "id": "acaa399d",
   "metadata": {},
   "source": [
    "## Generate Tag Pages\n",
    "\n",
    "The following cell reads `_config.yml` and all collection files, extracts tags, and writes a `.md` file for each tag under `tags/` as `tags/<tag>.md`.\n",
    "\n",
    "Run this cell whenever new tags are added.\n"
   ]
  },
  {
   "cell_type": "code",
   "execution_count": 26,
   "id": "312b3f58",
   "metadata": {},
   "outputs": [
    {
     "name": "stdout",
     "output_type": "stream",
     "text": [
      "Generated 91 tag pages in '_tags/' directory.\n"
     ]
    }
   ],
   "source": [
    "import os\n",
    "import re\n",
    "import glob\n",
    "import yaml\n",
    "\n",
    "# Load Jekyll configuration\n",
    "with open('_config.yml', 'r') as f:\n",
    "    cfg = yaml.safe_load(f)\n",
    "\n",
    "# Determine collections (including posts)\n",
    "collections = set(cfg.get('collections', {}).keys())\n",
    "collections.add('posts')\n",
    "\n",
    "# Gather tags from all collection files\n",
    "tags = set()\n",
    "for coll in collections:\n",
    "    dir_name = '_posts' if coll == 'posts' else f\"_{coll}\"\n",
    "    if not os.path.isdir(dir_name):\n",
    "        continue\n",
    "    for path in glob.glob(os.path.join(dir_name, '*.md')):\n",
    "        with open(path, 'r') as f:\n",
    "            content = f.read()\n",
    "        fm = re.match(r'^---\\s*(.*?)\\s*---', content, re.DOTALL)\n",
    "        if not fm:\n",
    "            continue\n",
    "        data = yaml.safe_load(fm.group(1))\n",
    "        for t in data.get('tags', []) or []:\n",
    "            if isinstance(t, str):\n",
    "                t = t.strip()\n",
    "                tags.add(t)\n",
    "\n",
    "# Create tags directory and write tag pages\n",
    "os.makedirs('_tags', exist_ok=True)\n",
    "for tag in tags:\n",
    "    slug = re.sub(r'[^\\w-]', '', tag.lower().replace(' ', '-'))\n",
    "    header = f\"\"\"---\n",
    "layout: tag\n",
    "tag: {tag}\n",
    "title: {tag}\n",
    "---\"\"\"\n",
    "    with open(os.path.join('_tags', f'{slug}.md'), 'w') as f:\n",
    "        f.write(header + '\\n')\n",
    "print(f\"Generated {len(tags)} tag pages in '_tags/' directory.\")"
   ]
  },
  {
   "cell_type": "markdown",
   "id": "e3925075",
   "metadata": {},
   "source": [
    "## Generate Markdown File for Each Image File\n",
    "\n",
    "This cell generates a corresponding markdown file for each image in a directory (drawings or stereoscopic-images etc.) and puts it in the corresponding Jekyll collection directory with the same name, just with the underscore prefix. If the markdown file already exists, it will _not_ be overwritten."
   ]
  },
  {
   "cell_type": "code",
   "execution_count": 1,
   "id": "2756dc4a",
   "metadata": {},
   "outputs": [
    {
     "name": "stdout",
     "output_type": "stream",
     "text": [
      "Created _drawings/2025-06-18_third-eye.md\n",
      "Created _drawings/2025-06-20_octograms.md\n",
      "Created _drawings/2025-06-23_cycle.md\n",
      "Created _drawings/2025-06-21_frayed-seams.md\n",
      "Created _drawings/2025-06-19_face-box-box-face.md\n",
      "Created _drawings/2025-06-22_infinity-worm.md\n",
      "Created _stereoscopic_images/2025-06-24_friends.md\n",
      "Created _stereoscopic_images/2025-06-22_forest.md\n",
      "Created _stereoscopic_images/2025-06-21_steps.md\n",
      "Created _stereoscopic_images/2025-06-20_rocks.md\n",
      "Created _stereoscopic_images/2025-06-19_trees.md\n",
      "Created _stereoscopic_images/2025-06-21_stage.md\n",
      "Created _stereoscopic_images/2025-06-23_spurge.md\n"
     ]
    }
   ],
   "source": [
    "import os\n",
    "import re\n",
    "import sys\n",
    "from pathlib import Path\n",
    "\n",
    "def generate_md_for_images(directory, dest_dir, layout):\n",
    "    img_pattern = re.compile(r'^(?P<date>\\d{4}-\\d{2}-\\d{2})_(?P<name>.+)\\.(?:jpg|png|gif)$', re.IGNORECASE)\n",
    "    directory = Path(directory)\n",
    "    # if the source directory doesn't exist, exit\n",
    "    if not directory.exists():\n",
    "        print(f\"Source directory {directory} does not exist.\")\n",
    "        return\n",
    "    dest_dir = Path(dest_dir)\n",
    "    # if the destination directory doesn't exist, create it\n",
    "    if not dest_dir.exists():\n",
    "        dest_dir.mkdir(parents=True)\n",
    "    for img_path in directory.iterdir():\n",
    "        if not img_path.is_file():\n",
    "            continue\n",
    "        m = img_pattern.match(img_path.name)\n",
    "        if not m:\n",
    "            continue\n",
    "        date = m.group('date')\n",
    "        name = m.group('name')\n",
    "        filename = img_path.name\n",
    "        pagename = f\"{date}_{name}\"\n",
    "        md_path = dest_dir / f\"{pagename}.md\"\n",
    "        if md_path.exists():\n",
    "            continue\n",
    "        front_matter = f\"\"\"---\n",
    "layout: {layout}\n",
    "filename: {filename}\n",
    "pagename: {pagename}\n",
    "date: {date}\n",
    "tags:\n",
    "---\\n\"\"\"\n",
    "        md_path.write_text(front_matter)\n",
    "        print(f\"Created {md_path}\")\n",
    "\n",
    "directory = 'drawings/'\n",
    "dest_dir = '_drawings/'\n",
    "layout = 'drawing'\n",
    "generate_md_for_images(directory, dest_dir, layout)\n",
    "\n",
    "directory = 'stereoscopic-images/'\n",
    "dest_dir = '_stereoscopic_images/'\n",
    "layout = 'stereoscopic_image'\n",
    "generate_md_for_images(directory, dest_dir, layout)\n"
   ]
  },
  {
   "cell_type": "code",
   "execution_count": 17,
   "id": "a4c2d3ce",
   "metadata": {},
   "outputs": [
    {
     "name": "stdout",
     "output_type": "stream",
     "text": [
      "Renamed drawings/2024-11-21.jpg to drawings/2024-11-21_1.jpg\n",
      "Renamed drawings/2024-11-20.jpg to drawings/2024-11-20_1.jpg\n",
      "Renamed drawings/2024-11-22.jpg to drawings/2024-11-22_1.jpg\n",
      "Renamed drawings/2024-11-23.jpg to drawings/2024-11-23_1.jpg\n",
      "Renamed drawings/2024-11-18.jpg to drawings/2024-11-18_1.jpg\n",
      "Renamed drawings/2024-11-24.jpg to drawings/2024-11-24_1.jpg\n",
      "Renamed drawings/2024-11-25.jpg to drawings/2024-11-25_1.jpg\n",
      "Renamed drawings/2024-11-19.jpg to drawings/2024-11-19_1.jpg\n",
      "Renamed drawings/2024-11-17.jpg to drawings/2024-11-17_1.jpg\n",
      "Renamed drawings/2024-11-16.jpg to drawings/2024-11-16_1.jpg\n"
     ]
    }
   ],
   "source": [
    "# find images with the name pattern YYYY-MM-DD.jpg and rename them to YYYY-MM-DD_1.jpg, YYYY-MM-DD_2.jpg, etc.\n",
    "def rename_images(directory):\n",
    "    # pattern is YYYY-MM-DD.jpg\n",
    "    img_pattern = re.compile(r'^(?P<date>\\d{4}-\\d{2}-\\d{2})\\.jpg$', re.IGNORECASE)\n",
    "    directory = Path(directory)\n",
    "    for img_path in directory.iterdir():\n",
    "        if not img_path.is_file():\n",
    "            continue\n",
    "        m = img_pattern.match(img_path.name)\n",
    "        if not m:\n",
    "            continue\n",
    "        date = m.group('date')\n",
    "        name = '1'\n",
    "        new_name = f\"{date}_{name}.jpg\"\n",
    "        new_path = directory / new_name\n",
    "        if new_path.exists():\n",
    "            continue\n",
    "        img_path.rename(new_path)\n",
    "        print(f\"Renamed {img_path} to {new_path}\")\n",
    "\n",
    "rename_images('stereoscopic-images/')\n",
    "rename_images('drawings/')"
   ]
  },
  {
   "cell_type": "code",
   "execution_count": null,
   "id": "a329cfaa",
   "metadata": {},
   "outputs": [],
   "source": []
  }
 ],
 "metadata": {
  "kernelspec": {
   "display_name": ".venv",
   "language": "python",
   "name": "python3"
  },
  "language_info": {
   "codemirror_mode": {
    "name": "ipython",
    "version": 3
   },
   "file_extension": ".py",
   "mimetype": "text/x-python",
   "name": "python",
   "nbconvert_exporter": "python",
   "pygments_lexer": "ipython3",
   "version": "3.12.10"
  }
 },
 "nbformat": 4,
 "nbformat_minor": 5
}
